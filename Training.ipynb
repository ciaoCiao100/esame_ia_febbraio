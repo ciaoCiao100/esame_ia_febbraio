{
  "nbformat": 4,
  "nbformat_minor": 0,
  "metadata": {
    "colab": {
      "name": "Training.ipynb",
      "provenance": [],
      "mount_file_id": "1Q6Kvd3zzNAZ6k_TdxinjGX0HV6Lg6unt",
      "authorship_tag": "ABX9TyNvbiREdXxZalw0p0B4C4QL",
      "include_colab_link": true
    },
    "kernelspec": {
      "name": "python3",
      "display_name": "Python 3"
    }
  },
  "cells": [
    {
      "cell_type": "markdown",
      "metadata": {
        "id": "view-in-github",
        "colab_type": "text"
      },
      "source": [
        "<a href=\"https://colab.research.google.com/github/ciaoCiao100/esame_ia_febbraio/blob/main/Training.ipynb\" target=\"_parent\"><img src=\"https://colab.research.google.com/assets/colab-badge.svg\" alt=\"Open In Colab\"/></a>"
      ]
    },
    {
      "cell_type": "code",
      "metadata": {
        "id": "qjtMdU9Vgf28"
      },
      "source": [
        "!pip install -r requirements.txt"
      ],
      "execution_count": null,
      "outputs": []
    },
    {
      "cell_type": "code",
      "metadata": {
        "id": "Fwi4pX3FclRY"
      },
      "source": [
        "import tensorflow as tf\r\n",
        "import pandas as pd\r\n",
        "import numpy as np\r\n",
        "import matplotlib.pyplot as plt\r\n",
        "import sklearn as sl\r\n",
        "from tensorflow import keras\r\n",
        "from sklearn.metrics import accuracy_score, classification_report, confusion_matrix,plot_confusion_matrix\r\n",
        "from sklearn.compose import ColumnTransformer\r\n",
        "from sklearn.ensemble import RandomForestClassifier\r\n",
        "from sklearn.tree import DecisionTreeRegressor, DecisionTreeClassifier\r\n",
        "import sklearn.metrics as metrics\r\n",
        "import seaborn as sns\r\n",
        "\r\n",
        "\r\n",
        "\r\n",
        "\r\n",
        "# fa i modo che i numeri siano più leggibili.\r\n",
        "np.set_printoptions(precision=3, suppress=True)\r\n",
        "\r\n",
        "train_file_path =  \"train.csv\"\r\n",
        "test_file_path = \"test.csv\"\r\n",
        "\r\n",
        "train_df = pd.read_csv(train_file_path)\r\n",
        "\r\n",
        "#train_df.dtypes\r\n",
        "test_df = pd.read_csv(test_file_path)\r\n",
        "#test_df.dtypes\r\n"
      ],
      "execution_count": 46,
      "outputs": []
    },
    {
      "cell_type": "markdown",
      "metadata": {
        "id": "Sk6q5Xqfgvmj"
      },
      "source": [
        "Nan di train "
      ]
    },
    {
      "cell_type": "code",
      "metadata": {
        "colab": {
          "base_uri": "https://localhost:8080/",
          "height": 195
        },
        "id": "0QrN8lLFhS6T",
        "outputId": "f09108e3-1ed6-48c4-d151-dc97d7e0dde6"
      },
      "source": [
        "# Sostituisco ad ogni stringa vuota il valore 'NaN'\r\n",
        "train_df.replace(\"\", np.nan, inplace=True)\r\n",
        "train_df.replace(\" \", np.nan, inplace=True)\r\n",
        "train_df.replace(\"?\", np.nan, inplace=True)\r\n",
        "train_df.head()"
      ],
      "execution_count": 47,
      "outputs": [
        {
          "output_type": "execute_result",
          "data": {
            "text/html": [
              "<div>\n",
              "<style scoped>\n",
              "    .dataframe tbody tr th:only-of-type {\n",
              "        vertical-align: middle;\n",
              "    }\n",
              "\n",
              "    .dataframe tbody tr th {\n",
              "        vertical-align: top;\n",
              "    }\n",
              "\n",
              "    .dataframe thead th {\n",
              "        text-align: right;\n",
              "    }\n",
              "</style>\n",
              "<table border=\"1\" class=\"dataframe\">\n",
              "  <thead>\n",
              "    <tr style=\"text-align: right;\">\n",
              "      <th></th>\n",
              "      <th>status</th>\n",
              "      <th>gender</th>\n",
              "      <th>ssc_p</th>\n",
              "      <th>ssc_b</th>\n",
              "      <th>hsc_p</th>\n",
              "      <th>hsc_b</th>\n",
              "      <th>hsc_s</th>\n",
              "      <th>degree_p</th>\n",
              "      <th>degree_t</th>\n",
              "      <th>workex</th>\n",
              "      <th>etest_p</th>\n",
              "      <th>specialisation</th>\n",
              "      <th>mba_p</th>\n",
              "      <th>salary</th>\n",
              "    </tr>\n",
              "  </thead>\n",
              "  <tbody>\n",
              "    <tr>\n",
              "      <th>0</th>\n",
              "      <td>Placed</td>\n",
              "      <td>M</td>\n",
              "      <td>66.0</td>\n",
              "      <td>Central</td>\n",
              "      <td>76.0</td>\n",
              "      <td>Central</td>\n",
              "      <td>Commerce</td>\n",
              "      <td>72.0</td>\n",
              "      <td>Comm&amp;Mgmt</td>\n",
              "      <td>Yes</td>\n",
              "      <td>84.0</td>\n",
              "      <td>Mkt&amp;HR</td>\n",
              "      <td>58.95</td>\n",
              "      <td>275000.0</td>\n",
              "    </tr>\n",
              "    <tr>\n",
              "      <th>1</th>\n",
              "      <td>Not Placed</td>\n",
              "      <td>M</td>\n",
              "      <td>59.6</td>\n",
              "      <td>Central</td>\n",
              "      <td>51.0</td>\n",
              "      <td>Central</td>\n",
              "      <td>Science</td>\n",
              "      <td>60.0</td>\n",
              "      <td>Others</td>\n",
              "      <td>No</td>\n",
              "      <td>75.0</td>\n",
              "      <td>Mkt&amp;HR</td>\n",
              "      <td>59.08</td>\n",
              "      <td>NaN</td>\n",
              "    </tr>\n",
              "    <tr>\n",
              "      <th>2</th>\n",
              "      <td>Placed</td>\n",
              "      <td>M</td>\n",
              "      <td>63.0</td>\n",
              "      <td>Others</td>\n",
              "      <td>62.0</td>\n",
              "      <td>Others</td>\n",
              "      <td>Commerce</td>\n",
              "      <td>68.0</td>\n",
              "      <td>Comm&amp;Mgmt</td>\n",
              "      <td>No</td>\n",
              "      <td>64.0</td>\n",
              "      <td>Mkt&amp;Fin</td>\n",
              "      <td>62.46</td>\n",
              "      <td>250000.0</td>\n",
              "    </tr>\n",
              "    <tr>\n",
              "      <th>3</th>\n",
              "      <td>Not Placed</td>\n",
              "      <td>M</td>\n",
              "      <td>67.9</td>\n",
              "      <td>Others</td>\n",
              "      <td>62.0</td>\n",
              "      <td>Others</td>\n",
              "      <td>Science</td>\n",
              "      <td>67.0</td>\n",
              "      <td>Sci&amp;Tech</td>\n",
              "      <td>Yes</td>\n",
              "      <td>58.1</td>\n",
              "      <td>Mkt&amp;Fin</td>\n",
              "      <td>75.71</td>\n",
              "      <td>NaN</td>\n",
              "    </tr>\n",
              "    <tr>\n",
              "      <th>4</th>\n",
              "      <td>Placed</td>\n",
              "      <td>M</td>\n",
              "      <td>63.0</td>\n",
              "      <td>Central</td>\n",
              "      <td>60.0</td>\n",
              "      <td>Central</td>\n",
              "      <td>Commerce</td>\n",
              "      <td>57.0</td>\n",
              "      <td>Comm&amp;Mgmt</td>\n",
              "      <td>Yes</td>\n",
              "      <td>78.0</td>\n",
              "      <td>Mkt&amp;Fin</td>\n",
              "      <td>54.55</td>\n",
              "      <td>204000.0</td>\n",
              "    </tr>\n",
              "  </tbody>\n",
              "</table>\n",
              "</div>"
            ],
            "text/plain": [
              "       status gender  ssc_p    ssc_b  ...  etest_p specialisation  mba_p    salary\n",
              "0      Placed      M   66.0  Central  ...     84.0         Mkt&HR  58.95  275000.0\n",
              "1  Not Placed      M   59.6  Central  ...     75.0         Mkt&HR  59.08       NaN\n",
              "2      Placed      M   63.0   Others  ...     64.0        Mkt&Fin  62.46  250000.0\n",
              "3  Not Placed      M   67.9   Others  ...     58.1        Mkt&Fin  75.71       NaN\n",
              "4      Placed      M   63.0  Central  ...     78.0        Mkt&Fin  54.55  204000.0\n",
              "\n",
              "[5 rows x 14 columns]"
            ]
          },
          "metadata": {
            "tags": []
          },
          "execution_count": 47
        }
      ]
    },
    {
      "cell_type": "markdown",
      "metadata": {
        "id": "gxUpt8Behg0A"
      },
      "source": [
        "Controllo se ci sono effettivamente valori Nan nel dataset train"
      ]
    },
    {
      "cell_type": "code",
      "metadata": {
        "colab": {
          "base_uri": "https://localhost:8080/"
        },
        "id": "cdVo8glfhkGE",
        "outputId": "142e9b98-7287-4c15-ca76-ae4b03388d70"
      },
      "source": [
        "train_df.isna().sum()"
      ],
      "execution_count": 48,
      "outputs": [
        {
          "output_type": "execute_result",
          "data": {
            "text/plain": [
              "status             0\n",
              "gender             0\n",
              "ssc_p              0\n",
              "ssc_b              0\n",
              "hsc_p              0\n",
              "hsc_b              0\n",
              "hsc_s              0\n",
              "degree_p           0\n",
              "degree_t           0\n",
              "workex             0\n",
              "etest_p            0\n",
              "specialisation     0\n",
              "mba_p              0\n",
              "salary            45\n",
              "dtype: int64"
            ]
          },
          "metadata": {
            "tags": []
          },
          "execution_count": 48
        }
      ]
    },
    {
      "cell_type": "markdown",
      "metadata": {
        "id": "8MRTihQIikKY"
      },
      "source": [
        " Nan per il test"
      ]
    },
    {
      "cell_type": "code",
      "metadata": {
        "colab": {
          "base_uri": "https://localhost:8080/",
          "height": 195
        },
        "id": "l462GM7DipGd",
        "outputId": "81ab10ba-ffab-407c-dcfc-905eff38fa10"
      },
      "source": [
        "# Sostituisco ad ogni stringa vuota il valore 'NaN'\r\n",
        "test_df.replace(\"\", np.nan, inplace=True)\r\n",
        "test_df.replace(\" \", np.nan, inplace=True)\r\n",
        "test_df.replace(\"?\", np.nan, inplace=True)\r\n",
        "test_df.head()"
      ],
      "execution_count": 49,
      "outputs": [
        {
          "output_type": "execute_result",
          "data": {
            "text/html": [
              "<div>\n",
              "<style scoped>\n",
              "    .dataframe tbody tr th:only-of-type {\n",
              "        vertical-align: middle;\n",
              "    }\n",
              "\n",
              "    .dataframe tbody tr th {\n",
              "        vertical-align: top;\n",
              "    }\n",
              "\n",
              "    .dataframe thead th {\n",
              "        text-align: right;\n",
              "    }\n",
              "</style>\n",
              "<table border=\"1\" class=\"dataframe\">\n",
              "  <thead>\n",
              "    <tr style=\"text-align: right;\">\n",
              "      <th></th>\n",
              "      <th>status</th>\n",
              "      <th>gender</th>\n",
              "      <th>ssc_p</th>\n",
              "      <th>ssc_b</th>\n",
              "      <th>hsc_p</th>\n",
              "      <th>hsc_b</th>\n",
              "      <th>hsc_s</th>\n",
              "      <th>degree_p</th>\n",
              "      <th>degree_t</th>\n",
              "      <th>workex</th>\n",
              "      <th>etest_p</th>\n",
              "      <th>specialisation</th>\n",
              "      <th>mba_p</th>\n",
              "      <th>salary</th>\n",
              "    </tr>\n",
              "  </thead>\n",
              "  <tbody>\n",
              "    <tr>\n",
              "      <th>0</th>\n",
              "      <td>Placed</td>\n",
              "      <td>F</td>\n",
              "      <td>85.0</td>\n",
              "      <td>Others</td>\n",
              "      <td>90.0</td>\n",
              "      <td>Others</td>\n",
              "      <td>Commerce</td>\n",
              "      <td>82.0</td>\n",
              "      <td>Comm&amp;Mgmt</td>\n",
              "      <td>No</td>\n",
              "      <td>92.00</td>\n",
              "      <td>Mkt&amp;Fin</td>\n",
              "      <td>68.03</td>\n",
              "      <td>300000.0</td>\n",
              "    </tr>\n",
              "    <tr>\n",
              "      <th>1</th>\n",
              "      <td>Placed</td>\n",
              "      <td>M</td>\n",
              "      <td>63.0</td>\n",
              "      <td>Others</td>\n",
              "      <td>71.4</td>\n",
              "      <td>Others</td>\n",
              "      <td>Commerce</td>\n",
              "      <td>61.4</td>\n",
              "      <td>Comm&amp;Mgmt</td>\n",
              "      <td>No</td>\n",
              "      <td>68.00</td>\n",
              "      <td>Mkt&amp;Fin</td>\n",
              "      <td>66.88</td>\n",
              "      <td>240000.0</td>\n",
              "    </tr>\n",
              "    <tr>\n",
              "      <th>2</th>\n",
              "      <td>Placed</td>\n",
              "      <td>M</td>\n",
              "      <td>58.0</td>\n",
              "      <td>Central</td>\n",
              "      <td>62.0</td>\n",
              "      <td>Central</td>\n",
              "      <td>Commerce</td>\n",
              "      <td>64.0</td>\n",
              "      <td>Comm&amp;Mgmt</td>\n",
              "      <td>No</td>\n",
              "      <td>53.88</td>\n",
              "      <td>Mkt&amp;Fin</td>\n",
              "      <td>54.97</td>\n",
              "      <td>260000.0</td>\n",
              "    </tr>\n",
              "    <tr>\n",
              "      <th>3</th>\n",
              "      <td>Placed</td>\n",
              "      <td>M</td>\n",
              "      <td>84.2</td>\n",
              "      <td>Central</td>\n",
              "      <td>69.4</td>\n",
              "      <td>Central</td>\n",
              "      <td>Science</td>\n",
              "      <td>65.0</td>\n",
              "      <td>Sci&amp;Tech</td>\n",
              "      <td>Yes</td>\n",
              "      <td>80.00</td>\n",
              "      <td>Mkt&amp;HR</td>\n",
              "      <td>52.72</td>\n",
              "      <td>255000.0</td>\n",
              "    </tr>\n",
              "    <tr>\n",
              "      <th>4</th>\n",
              "      <td>Not Placed</td>\n",
              "      <td>M</td>\n",
              "      <td>41.0</td>\n",
              "      <td>Central</td>\n",
              "      <td>42.0</td>\n",
              "      <td>Central</td>\n",
              "      <td>Science</td>\n",
              "      <td>60.0</td>\n",
              "      <td>Comm&amp;Mgmt</td>\n",
              "      <td>No</td>\n",
              "      <td>97.00</td>\n",
              "      <td>Mkt&amp;Fin</td>\n",
              "      <td>53.39</td>\n",
              "      <td>NaN</td>\n",
              "    </tr>\n",
              "  </tbody>\n",
              "</table>\n",
              "</div>"
            ],
            "text/plain": [
              "       status gender  ssc_p    ssc_b  ...  etest_p specialisation  mba_p    salary\n",
              "0      Placed      F   85.0   Others  ...    92.00        Mkt&Fin  68.03  300000.0\n",
              "1      Placed      M   63.0   Others  ...    68.00        Mkt&Fin  66.88  240000.0\n",
              "2      Placed      M   58.0  Central  ...    53.88        Mkt&Fin  54.97  260000.0\n",
              "3      Placed      M   84.2  Central  ...    80.00         Mkt&HR  52.72  255000.0\n",
              "4  Not Placed      M   41.0  Central  ...    97.00        Mkt&Fin  53.39       NaN\n",
              "\n",
              "[5 rows x 14 columns]"
            ]
          },
          "metadata": {
            "tags": []
          },
          "execution_count": 49
        }
      ]
    },
    {
      "cell_type": "markdown",
      "metadata": {
        "id": "FD09YPILiwWU"
      },
      "source": [
        "\r\n",
        "Ricontrollo se ci sono effettivamente valori Nan nel dataset test\r\n",
        "\r\n"
      ]
    },
    {
      "cell_type": "code",
      "metadata": {
        "colab": {
          "base_uri": "https://localhost:8080/"
        },
        "id": "USaEzHV3ivy_",
        "outputId": "c22a9273-2516-4dc0-87ca-97a3ef2a40ac"
      },
      "source": [
        "\r\n",
        "test_df.isna().sum()"
      ],
      "execution_count": 50,
      "outputs": [
        {
          "output_type": "execute_result",
          "data": {
            "text/plain": [
              "status             0\n",
              "gender             0\n",
              "ssc_p              0\n",
              "ssc_b              0\n",
              "hsc_p              0\n",
              "hsc_b              0\n",
              "hsc_s              0\n",
              "degree_p           0\n",
              "degree_t           0\n",
              "workex             0\n",
              "etest_p            0\n",
              "specialisation     0\n",
              "mba_p              0\n",
              "salary            10\n",
              "dtype: int64"
            ]
          },
          "metadata": {
            "tags": []
          },
          "execution_count": 50
        }
      ]
    },
    {
      "cell_type": "markdown",
      "metadata": {
        "id": "en9CwXKXi7o-"
      },
      "source": [
        "Si arriva ad un problema : andare ad eliminare con la funzione dropna tutte le righe Nan, potrebbe comportare avere un dataset errato, composto da tutte persone che sono state assunte. Quindi si và ad eliminare la colonna del salario.\r\n"
      ]
    },
    {
      "cell_type": "markdown",
      "metadata": {
        "id": "Lvxk9IVfuBm3"
      },
      "source": [
        "eliminazione salary da train"
      ]
    },
    {
      "cell_type": "code",
      "metadata": {
        "id": "kjs5H3_Uj7B5"
      },
      "source": [
        "#funzione per eliminare la colonna salary da train \r\n",
        "\r\n",
        "train_df = train_df.drop(columns=['salary'])\r\n"
      ],
      "execution_count": 51,
      "outputs": []
    },
    {
      "cell_type": "markdown",
      "metadata": {
        "id": "ZUI1EW2Rt7q-"
      },
      "source": [
        " eliminiazione salary da test"
      ]
    },
    {
      "cell_type": "code",
      "metadata": {
        "id": "oEnDaIEHlSrw"
      },
      "source": [
        "#funzione per eliminare la colonna salary da test\r\n",
        "\r\n",
        "test_df = test_df.drop(columns=['salary'])"
      ],
      "execution_count": 52,
      "outputs": []
    },
    {
      "cell_type": "markdown",
      "metadata": {
        "id": "0YbpjHavuRXo"
      },
      "source": [
        "eliminazione valori Nan"
      ]
    },
    {
      "cell_type": "code",
      "metadata": {
        "id": "fpp46PyduR7k"
      },
      "source": [
        "# Procediamo con l'eliminazione dei dati non validi (NaN)\r\n",
        "test_df.dropna(inplace=True)\r\n",
        "train_df.dropna(inplace=True)"
      ],
      "execution_count": 53,
      "outputs": []
    },
    {
      "cell_type": "markdown",
      "metadata": {
        "id": "6ORAGsXR0dSG"
      },
      "source": [
        "Analisi dei dati a disposizione nel train"
      ]
    },
    {
      "cell_type": "code",
      "metadata": {
        "colab": {
          "base_uri": "https://localhost:8080/",
          "height": 296
        },
        "id": "6k5Y_o6O0fAx",
        "outputId": "10e40021-d3bc-4993-c797-640864eb45c2"
      },
      "source": [
        "# Diagramma del numero delle persone che sono state assunte \r\n",
        "sns.countplot(x=train_df['status'])\r\n"
      ],
      "execution_count": 54,
      "outputs": [
        {
          "output_type": "execute_result",
          "data": {
            "text/plain": [
              "<matplotlib.axes._subplots.AxesSubplot at 0x7f905ddf4590>"
            ]
          },
          "metadata": {
            "tags": []
          },
          "execution_count": 54
        },
        {
          "output_type": "display_data",
          "data": {
            "image/png": "[encoded data removed]",
            "text/plain": [
              "<Figure size 432x288 with 1 Axes>"
            ]
          },
          "metadata": {
            "tags": [],
            "needs_background": "light"
          }
        }
      ]
    },
    {
      "cell_type": "code",
      "metadata": {
        "colab": {
          "base_uri": "https://localhost:8080/",
          "height": 1000
        },
        "id": "JeKKv7Qj1bSy",
        "outputId": "713d67e0-e04e-4afc-af5c-cc81c5f5f20f"
      },
      "source": [
        "# Alcuni grafici che mettono in relazione le features\r\n",
        "# del dataset con le persone che sono state collocate o no \r\n",
        "\r\n",
        "\r\n",
        "cols = ['gender','ssc_p','ssc_b','hsc_p','hsc_b','hsc_s','degree_p','degree_t','workex','etest_p','specialisation','mba_p']\r\n",
        "n_rows = 6\r\n",
        "n_cols = 2\r\n",
        "\r\n",
        "fig, axs = plt.subplots(n_rows, n_cols, figsize=(n_cols*8, n_rows*4))\r\n",
        "i=0\r\n",
        "for r in range(n_rows):\r\n",
        "    for c in range(n_cols):\r\n",
        "        ax = axs[r][c]\r\n",
        "        sns.countplot(train_df[cols[i]], hue=train_df['status'], ax=ax)\r\n",
        "        ax.set_title(cols[i])\r\n",
        "        ax.legend(title='status', loc='upper right')\r\n",
        "        i+=1\r\n",
        "    \r\n",
        "plt.tight_layout()\r\n",
        "\r\n"
      ],
      "execution_count": 55,
      "outputs": [
        {
          "output_type": "stream",
          "text": [
            "/usr/local/lib/python3.7/dist-packages/seaborn/_decorators.py:43: FutureWarning: Pass the following variable as a keyword arg: x. From version 0.12, the only valid positional argument will be `data`, and passing other arguments without an explicit keyword will result in an error or misinterpretation.\n",
            "  FutureWarning\n",
            "/usr/local/lib/python3.7/dist-packages/seaborn/_decorators.py:43: FutureWarning: Pass the following variable as a keyword arg: x. From version 0.12, the only valid positional argument will be `data`, and passing other arguments without an explicit keyword will result in an error or misinterpretation.\n",
            "  FutureWarning\n",
            "/usr/local/lib/python3.7/dist-packages/seaborn/_decorators.py:43: FutureWarning: Pass the following variable as a keyword arg: x. From version 0.12, the only valid positional argument will be `data`, and passing other arguments without an explicit keyword will result in an error or misinterpretation.\n",
            "  FutureWarning\n",
            "/usr/local/lib/python3.7/dist-packages/seaborn/_decorators.py:43: FutureWarning: Pass the following variable as a keyword arg: x. From version 0.12, the only valid positional argument will be `data`, and passing other arguments without an explicit keyword will result in an error or misinterpretation.\n",
            "  FutureWarning\n",
            "/usr/local/lib/python3.7/dist-packages/seaborn/_decorators.py:43: FutureWarning: Pass the following variable as a keyword arg: x. From version 0.12, the only valid positional argument will be `data`, and passing other arguments without an explicit keyword will result in an error or misinterpretation.\n",
            "  FutureWarning\n",
            "/usr/local/lib/python3.7/dist-packages/seaborn/_decorators.py:43: FutureWarning: Pass the following variable as a keyword arg: x. From version 0.12, the only valid positional argument will be `data`, and passing other arguments without an explicit keyword will result in an error or misinterpretation.\n",
            "  FutureWarning\n",
            "/usr/local/lib/python3.7/dist-packages/seaborn/_decorators.py:43: FutureWarning: Pass the following variable as a keyword arg: x. From version 0.12, the only valid positional argument will be `data`, and passing other arguments without an explicit keyword will result in an error or misinterpretation.\n",
            "  FutureWarning\n",
            "/usr/local/lib/python3.7/dist-packages/seaborn/_decorators.py:43: FutureWarning: Pass the following variable as a keyword arg: x. From version 0.12, the only valid positional argument will be `data`, and passing other arguments without an explicit keyword will result in an error or misinterpretation.\n",
            "  FutureWarning\n",
            "/usr/local/lib/python3.7/dist-packages/seaborn/_decorators.py:43: FutureWarning: Pass the following variable as a keyword arg: x. From version 0.12, the only valid positional argument will be `data`, and passing other arguments without an explicit keyword will result in an error or misinterpretation.\n",
            "  FutureWarning\n",
            "/usr/local/lib/python3.7/dist-packages/seaborn/_decorators.py:43: FutureWarning: Pass the following variable as a keyword arg: x. From version 0.12, the only valid positional argument will be `data`, and passing other arguments without an explicit keyword will result in an error or misinterpretation.\n",
            "  FutureWarning\n",
            "/usr/local/lib/python3.7/dist-packages/seaborn/_decorators.py:43: FutureWarning: Pass the following variable as a keyword arg: x. From version 0.12, the only valid positional argument will be `data`, and passing other arguments without an explicit keyword will result in an error or misinterpretation.\n",
            "  FutureWarning\n",
            "/usr/local/lib/python3.7/dist-packages/seaborn/_decorators.py:43: FutureWarning: Pass the following variable as a keyword arg: x. From version 0.12, the only valid positional argument will be `data`, and passing other arguments without an explicit keyword will result in an error or misinterpretation.\n",
            "  FutureWarning\n"
          ],
          "name": "stderr"
        },
        {
          "output_type": "display_data",
          "data": {
            "image/png": "[encoded data removed]",
            "text/plain": [
              "<Figure size 1152x1728 with 12 Axes>"
            ]
          },
          "metadata": {
            "tags": [],
            "needs_background": "light"
          }
        }
      ]
    },
    {
      "cell_type": "markdown",
      "metadata": {
        "id": "cJ9teIRs92Jp"
      },
      "source": [
        ""
      ]
    },
    {
      "cell_type": "markdown",
      "metadata": {
        "id": "dRYnonwh3PrL"
      },
      "source": [
        "andiamo ad analizzare i seguenti grafici: \r\n",
        "\r\n",
        "1)gender: vengono collocati circa il 30% delle donne e il 60% degli uomini tuttavia il genere non influisce sul collocamento degli studenti\r\n",
        "\r\n",
        "2)degree_t: vengono collocati circa il 65% delle persone laureatesi in commercio e menagement contro il 25% degli studenti laureati in scienze e tecnologia. Il restante 10% appartiene agli studenti laureati in altre facoltà. Di conseguenza influisce sul collocamento \r\n",
        "\r\n",
        "3)workex: Possiamo notare come vengano collocate  circa il 60% di   persone con espserienze lavorative contro il 30% di coloro che non hanno esperienza lavorativa\r\n",
        "\r\n",
        "4)specialisation: il 60% individui con specializzazione MKt&F viene collocato,contro il 30% di persone che hanno la specializzaione nell'altra materia\r\n",
        "\r\n",
        "5)ssc_p,ssc_b,hsc_p,hsc_b,hsc_s,degree_p,mba_p, etest_p: sono feature che illustrano i punteggio di ogni studente ottenuto alle medie(commissione interna/ esterna) , liceo(commissione interna/ esterna) , college e test di collocabilità; si evince che più alto è il punteggio più è possibile che lo studente sia collocato.\r\n",
        "\r\n"
      ]
    },
    {
      "cell_type": "markdown",
      "metadata": {
        "id": "cw-hMd9wmrZF"
      },
      "source": [
        "Conversione stringhe a float train.csv"
      ]
    },
    {
      "cell_type": "code",
      "metadata": {
        "colab": {
          "base_uri": "https://localhost:8080/",
          "height": 195
        },
        "id": "D9jQrHUpmssl",
        "outputId": "7a355a18-79a8-41e1-f603-0c2f1aadab30"
      },
      "source": [
        "\r\n",
        "for elemento in train_df:\r\n",
        "  if   elemento==\"ssc_p\"\t or elemento==\"hsc_p\" or elemento==\"degree_p\"  or elemento==\"etest_p\"\t or elemento==\"mba_p\" :\r\n",
        "   train_df[elemento] = train_df[elemento].astype('float')\r\n",
        "  else:\r\n",
        "   train_df[elemento] = (pd.Categorical(train_df[elemento])).codes.astype('float')\r\n",
        "\r\n",
        "# mostro il dataset dopo l'operazione\r\n",
        "train_df.head()"
      ],
      "execution_count": 56,
      "outputs": [
        {
          "output_type": "execute_result",
          "data": {
            "text/html": [
              "<div>\n",
              "<style scoped>\n",
              "    .dataframe tbody tr th:only-of-type {\n",
              "        vertical-align: middle;\n",
              "    }\n",
              "\n",
              "    .dataframe tbody tr th {\n",
              "        vertical-align: top;\n",
              "    }\n",
              "\n",
              "    .dataframe thead th {\n",
              "        text-align: right;\n",
              "    }\n",
              "</style>\n",
              "<table border=\"1\" class=\"dataframe\">\n",
              "  <thead>\n",
              "    <tr style=\"text-align: right;\">\n",
              "      <th></th>\n",
              "      <th>status</th>\n",
              "      <th>gender</th>\n",
              "      <th>ssc_p</th>\n",
              "      <th>ssc_b</th>\n",
              "      <th>hsc_p</th>\n",
              "      <th>hsc_b</th>\n",
              "      <th>hsc_s</th>\n",
              "      <th>degree_p</th>\n",
              "      <th>degree_t</th>\n",
              "      <th>workex</th>\n",
              "      <th>etest_p</th>\n",
              "      <th>specialisation</th>\n",
              "      <th>mba_p</th>\n",
              "    </tr>\n",
              "  </thead>\n",
              "  <tbody>\n",
              "    <tr>\n",
              "      <th>0</th>\n",
              "      <td>1.0</td>\n",
              "      <td>1.0</td>\n",
              "      <td>66.0</td>\n",
              "      <td>0.0</td>\n",
              "      <td>76.0</td>\n",
              "      <td>0.0</td>\n",
              "      <td>1.0</td>\n",
              "      <td>72.0</td>\n",
              "      <td>0.0</td>\n",
              "      <td>1.0</td>\n",
              "      <td>84.0</td>\n",
              "      <td>1.0</td>\n",
              "      <td>58.95</td>\n",
              "    </tr>\n",
              "    <tr>\n",
              "      <th>1</th>\n",
              "      <td>0.0</td>\n",
              "      <td>1.0</td>\n",
              "      <td>59.6</td>\n",
              "      <td>0.0</td>\n",
              "      <td>51.0</td>\n",
              "      <td>0.0</td>\n",
              "      <td>2.0</td>\n",
              "      <td>60.0</td>\n",
              "      <td>1.0</td>\n",
              "      <td>0.0</td>\n",
              "      <td>75.0</td>\n",
              "      <td>1.0</td>\n",
              "      <td>59.08</td>\n",
              "    </tr>\n",
              "    <tr>\n",
              "      <th>2</th>\n",
              "      <td>1.0</td>\n",
              "      <td>1.0</td>\n",
              "      <td>63.0</td>\n",
              "      <td>1.0</td>\n",
              "      <td>62.0</td>\n",
              "      <td>1.0</td>\n",
              "      <td>1.0</td>\n",
              "      <td>68.0</td>\n",
              "      <td>0.0</td>\n",
              "      <td>0.0</td>\n",
              "      <td>64.0</td>\n",
              "      <td>0.0</td>\n",
              "      <td>62.46</td>\n",
              "    </tr>\n",
              "    <tr>\n",
              "      <th>3</th>\n",
              "      <td>0.0</td>\n",
              "      <td>1.0</td>\n",
              "      <td>67.9</td>\n",
              "      <td>1.0</td>\n",
              "      <td>62.0</td>\n",
              "      <td>1.0</td>\n",
              "      <td>2.0</td>\n",
              "      <td>67.0</td>\n",
              "      <td>2.0</td>\n",
              "      <td>1.0</td>\n",
              "      <td>58.1</td>\n",
              "      <td>0.0</td>\n",
              "      <td>75.71</td>\n",
              "    </tr>\n",
              "    <tr>\n",
              "      <th>4</th>\n",
              "      <td>1.0</td>\n",
              "      <td>1.0</td>\n",
              "      <td>63.0</td>\n",
              "      <td>0.0</td>\n",
              "      <td>60.0</td>\n",
              "      <td>0.0</td>\n",
              "      <td>1.0</td>\n",
              "      <td>57.0</td>\n",
              "      <td>0.0</td>\n",
              "      <td>1.0</td>\n",
              "      <td>78.0</td>\n",
              "      <td>0.0</td>\n",
              "      <td>54.55</td>\n",
              "    </tr>\n",
              "  </tbody>\n",
              "</table>\n",
              "</div>"
            ],
            "text/plain": [
              "   status  gender  ssc_p  ssc_b  ...  workex  etest_p  specialisation  mba_p\n",
              "0     1.0     1.0   66.0    0.0  ...     1.0     84.0             1.0  58.95\n",
              "1     0.0     1.0   59.6    0.0  ...     0.0     75.0             1.0  59.08\n",
              "2     1.0     1.0   63.0    1.0  ...     0.0     64.0             0.0  62.46\n",
              "3     0.0     1.0   67.9    1.0  ...     1.0     58.1             0.0  75.71\n",
              "4     1.0     1.0   63.0    0.0  ...     1.0     78.0             0.0  54.55\n",
              "\n",
              "[5 rows x 13 columns]"
            ]
          },
          "metadata": {
            "tags": []
          },
          "execution_count": 56
        }
      ]
    },
    {
      "cell_type": "markdown",
      "metadata": {
        "id": "VuL4220hmtGc"
      },
      "source": [
        "Conversione stringhe a float test.csv"
      ]
    },
    {
      "cell_type": "code",
      "metadata": {
        "colab": {
          "base_uri": "https://localhost:8080/",
          "height": 195
        },
        "id": "elDXPdsnotKq",
        "outputId": "706027d5-b38f-4dd4-be7a-5cb55da2e98d"
      },
      "source": [
        "#tutte le colonne che contengono stringhe devono essere trasformate in colonne che contengono interi \r\n",
        "for elemento in test_df:\r\n",
        "  if   elemento==\"ssc_p\"\t or elemento==\"hsc_p\" or elemento==\"degree_p\"  or elemento==\"etest_p\"\t or elemento==\"mba_p\" :\r\n",
        "   test_df[elemento] = test_df[elemento].astype('float')\r\n",
        "  else:\r\n",
        "   test_df[elemento] = (pd.Categorical(test_df[elemento])).codes.astype('float')\r\n",
        "\r\n",
        "# mostro il dataset dopo l'operazione\r\n",
        "test_df.head()"
      ],
      "execution_count": 57,
      "outputs": [
        {
          "output_type": "execute_result",
          "data": {
            "text/html": [
              "<div>\n",
              "<style scoped>\n",
              "    .dataframe tbody tr th:only-of-type {\n",
              "        vertical-align: middle;\n",
              "    }\n",
              "\n",
              "    .dataframe tbody tr th {\n",
              "        vertical-align: top;\n",
              "    }\n",
              "\n",
              "    .dataframe thead th {\n",
              "        text-align: right;\n",
              "    }\n",
              "</style>\n",
              "<table border=\"1\" class=\"dataframe\">\n",
              "  <thead>\n",
              "    <tr style=\"text-align: right;\">\n",
              "      <th></th>\n",
              "      <th>status</th>\n",
              "      <th>gender</th>\n",
              "      <th>ssc_p</th>\n",
              "      <th>ssc_b</th>\n",
              "      <th>hsc_p</th>\n",
              "      <th>hsc_b</th>\n",
              "      <th>hsc_s</th>\n",
              "      <th>degree_p</th>\n",
              "      <th>degree_t</th>\n",
              "      <th>workex</th>\n",
              "      <th>etest_p</th>\n",
              "      <th>specialisation</th>\n",
              "      <th>mba_p</th>\n",
              "    </tr>\n",
              "  </thead>\n",
              "  <tbody>\n",
              "    <tr>\n",
              "      <th>0</th>\n",
              "      <td>1.0</td>\n",
              "      <td>0.0</td>\n",
              "      <td>85.0</td>\n",
              "      <td>1.0</td>\n",
              "      <td>90.0</td>\n",
              "      <td>1.0</td>\n",
              "      <td>1.0</td>\n",
              "      <td>82.0</td>\n",
              "      <td>0.0</td>\n",
              "      <td>0.0</td>\n",
              "      <td>92.00</td>\n",
              "      <td>0.0</td>\n",
              "      <td>68.03</td>\n",
              "    </tr>\n",
              "    <tr>\n",
              "      <th>1</th>\n",
              "      <td>1.0</td>\n",
              "      <td>1.0</td>\n",
              "      <td>63.0</td>\n",
              "      <td>1.0</td>\n",
              "      <td>71.4</td>\n",
              "      <td>1.0</td>\n",
              "      <td>1.0</td>\n",
              "      <td>61.4</td>\n",
              "      <td>0.0</td>\n",
              "      <td>0.0</td>\n",
              "      <td>68.00</td>\n",
              "      <td>0.0</td>\n",
              "      <td>66.88</td>\n",
              "    </tr>\n",
              "    <tr>\n",
              "      <th>2</th>\n",
              "      <td>1.0</td>\n",
              "      <td>1.0</td>\n",
              "      <td>58.0</td>\n",
              "      <td>0.0</td>\n",
              "      <td>62.0</td>\n",
              "      <td>0.0</td>\n",
              "      <td>1.0</td>\n",
              "      <td>64.0</td>\n",
              "      <td>0.0</td>\n",
              "      <td>0.0</td>\n",
              "      <td>53.88</td>\n",
              "      <td>0.0</td>\n",
              "      <td>54.97</td>\n",
              "    </tr>\n",
              "    <tr>\n",
              "      <th>3</th>\n",
              "      <td>1.0</td>\n",
              "      <td>1.0</td>\n",
              "      <td>84.2</td>\n",
              "      <td>0.0</td>\n",
              "      <td>69.4</td>\n",
              "      <td>0.0</td>\n",
              "      <td>2.0</td>\n",
              "      <td>65.0</td>\n",
              "      <td>2.0</td>\n",
              "      <td>1.0</td>\n",
              "      <td>80.00</td>\n",
              "      <td>1.0</td>\n",
              "      <td>52.72</td>\n",
              "    </tr>\n",
              "    <tr>\n",
              "      <th>4</th>\n",
              "      <td>0.0</td>\n",
              "      <td>1.0</td>\n",
              "      <td>41.0</td>\n",
              "      <td>0.0</td>\n",
              "      <td>42.0</td>\n",
              "      <td>0.0</td>\n",
              "      <td>2.0</td>\n",
              "      <td>60.0</td>\n",
              "      <td>0.0</td>\n",
              "      <td>0.0</td>\n",
              "      <td>97.00</td>\n",
              "      <td>0.0</td>\n",
              "      <td>53.39</td>\n",
              "    </tr>\n",
              "  </tbody>\n",
              "</table>\n",
              "</div>"
            ],
            "text/plain": [
              "   status  gender  ssc_p  ssc_b  ...  workex  etest_p  specialisation  mba_p\n",
              "0     1.0     0.0   85.0    1.0  ...     0.0    92.00             0.0  68.03\n",
              "1     1.0     1.0   63.0    1.0  ...     0.0    68.00             0.0  66.88\n",
              "2     1.0     1.0   58.0    0.0  ...     0.0    53.88             0.0  54.97\n",
              "3     1.0     1.0   84.2    0.0  ...     1.0    80.00             1.0  52.72\n",
              "4     0.0     1.0   41.0    0.0  ...     0.0    97.00             0.0  53.39\n",
              "\n",
              "[5 rows x 13 columns]"
            ]
          },
          "metadata": {
            "tags": []
          },
          "execution_count": 57
        }
      ]
    },
    {
      "cell_type": "markdown",
      "metadata": {
        "id": "GXtTBS8mo70c"
      },
      "source": [
        ""
      ]
    },
    {
      "cell_type": "code",
      "metadata": {
        "colab": {
          "base_uri": "https://localhost:8080/"
        },
        "id": "pVZODYCypCmS",
        "outputId": "1e8497e9-c963-4798-9ec8-2108031b7287"
      },
      "source": [
        "\r\n",
        "\r\n",
        "features =['ssc_p','ssc_b','hsc_p','hsc_b','hsc_s','degree_p','degree_t','workex','etest_p','specialisation','mba_p']\r\n",
        "X = train_df[features]\r\n",
        "Y = train_df['status']\r\n",
        "X_test = test_df[features]\r\n",
        "Y_test =test_df['status']\r\n",
        "\r\n",
        "# Specify Model : viene utilizzato RandomForestCLaasifier\r\n",
        "#La foresta casuale, come suggerisce il nome, \r\n",
        "#è costituita da un gran numero di singoli alberi decisionali che operano come un insieme(differentemente per il DecisionTreeClassifier che opera su un albero di decisione).\r\n",
        "#Ogni singolo albero nella foresta casuale genera una previsione di classe basandosi sui suoi attributi ed esprime un voto per quella classe\r\n",
        "# e la classe con il maggior numero di voti diventa la previsione del nostro modello\r\n",
        "#Mentre alcuni alberi potrebbero essere sbagliati, molti altri alberi avranno ragione, quindi come gruppo gli alberi sono in grado di muoversi nella direzione corretta. \r\n",
        "#Le previsioni (e quindi gli errori) fatte dai singoli alberi devono avere basse correlazioni tra loro.\r\n",
        "\r\n",
        "model = RandomForestClassifier(random_state=1)\r\n",
        "model.fit(X,Y)"
      ],
      "execution_count": 58,
      "outputs": [
        {
          "output_type": "execute_result",
          "data": {
            "text/plain": [
              "RandomForestClassifier(bootstrap=True, ccp_alpha=0.0, class_weight=None,\n",
              "                       criterion='gini', max_depth=None, max_features='auto',\n",
              "                       max_leaf_nodes=None, max_samples=None,\n",
              "                       min_impurity_decrease=0.0, min_impurity_split=None,\n",
              "                       min_samples_leaf=1, min_samples_split=2,\n",
              "                       min_weight_fraction_leaf=0.0, n_estimators=100,\n",
              "                       n_jobs=None, oob_score=False, random_state=1, verbose=0,\n",
              "                       warm_start=False)"
            ]
          },
          "metadata": {
            "tags": []
          },
          "execution_count": 58
        }
      ]
    },
    {
      "cell_type": "markdown",
      "metadata": {
        "id": "MsNv-nq2pzpD"
      },
      "source": [
        "Addestramento"
      ]
    },
    {
      "cell_type": "code",
      "metadata": {
        "colab": {
          "base_uri": "https://localhost:8080/"
        },
        "id": "XMtvL7wip0UJ",
        "outputId": "678c73ab-4735-48b7-a960-b93ebc9d9967"
      },
      "source": [
        "train_predictions = model.predict(X)\r\n",
        "train_acc = metrics.accuracy_score(Y,train_predictions)\r\n",
        "print('Accuracy train: %s'  % train_acc)"
      ],
      "execution_count": 59,
      "outputs": [
        {
          "output_type": "stream",
          "text": [
            "Accuracy train: 1.0\n"
          ],
          "name": "stdout"
        }
      ]
    },
    {
      "cell_type": "markdown",
      "metadata": {
        "id": "k9T9S5EOp070"
      },
      "source": [
        "Test"
      ]
    },
    {
      "cell_type": "code",
      "metadata": {
        "colab": {
          "base_uri": "https://localhost:8080/"
        },
        "id": "F8wD_0dop1g4",
        "outputId": "2b531da2-4297-4974-f5c3-30323f8ff711"
      },
      "source": [
        "test_predictions = model.predict(X_test)\r\n",
        "test_acc=metrics.accuracy_score(Y_test,test_predictions)\r\n",
        "print('Accuracy test: %s'  % test_acc)"
      ],
      "execution_count": 60,
      "outputs": [
        {
          "output_type": "stream",
          "text": [
            "Accuracy test: 0.9714285714285714\n"
          ],
          "name": "stdout"
        }
      ]
    },
    {
      "cell_type": "markdown",
      "metadata": {
        "id": "IMmne3_sqH7n"
      },
      "source": [
        "Creazione confusion matrix"
      ]
    },
    {
      "cell_type": "code",
      "metadata": {
        "colab": {
          "base_uri": "https://localhost:8080/"
        },
        "id": "kiGxCgRBqLiO",
        "outputId": "5bfee0fb-6c3b-442f-97fa-92d2fc9ed325"
      },
      "source": [
        "conf_matr = confusion_matrix(Y_test, test_predictions, normalize=None)\r\n",
        "# Stampa della confusion matrix\r\n",
        "print(conf_matr)"
      ],
      "execution_count": 61,
      "outputs": [
        {
          "output_type": "stream",
          "text": [
            "[[10  0]\n",
            " [ 1 24]]\n"
          ],
          "name": "stdout"
        }
      ]
    },
    {
      "cell_type": "markdown",
      "metadata": {
        "id": "eLRChDgFq2q0"
      },
      "source": [
        "\r\n",
        "Plot confusion matrix"
      ]
    },
    {
      "cell_type": "code",
      "metadata": {
        "colab": {
          "base_uri": "https://localhost:8080/",
          "height": 329
        },
        "id": "Z7qcaJt8q6Gr",
        "outputId": "62efc715-5591-4cb5-cfbb-a1e2f76fe867"
      },
      "source": [
        "disp = plot_confusion_matrix(model, X_test, Y_test,\r\n",
        "                                 cmap=plt.cm.Blues)\r\n",
        "disp.ax_.set_title(\"Confusion Matrix \")\r\n",
        "\r\n",
        "\r\n",
        "\r\n",
        "print(disp.confusion_matrix)\r\n",
        "plt.show()"
      ],
      "execution_count": 62,
      "outputs": [
        {
          "output_type": "stream",
          "text": [
            "[[10  0]\n",
            " [ 1 24]]\n"
          ],
          "name": "stdout"
        },
        {
          "output_type": "display_data",
          "data": {
            "image/png": "[encoded data removed]",
            "text/plain": [
              "<Figure size 432x288 with 2 Axes>"
            ]
          },
          "metadata": {
            "tags": [],
            "needs_background": "light"
          }
        }
      ]
    },
    {
      "cell_type": "markdown",
      "metadata": {
        "id": "v6H0rVMtlR6M"
      },
      "source": [
        "I risultati ottenuti sembrano sufficienti a garantire una buona generalizzazione del problema con un train accuracy di 1.0 e un test accuracy di 0.97 . Tuttavia sarebbe utile poter confrontare e confermare i risutati su un dataset più ampio. "
      ]
    }
  ]
}