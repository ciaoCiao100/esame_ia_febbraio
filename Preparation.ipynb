{
  "nbformat": 4,
  "nbformat_minor": 0,
  "metadata": {
    "colab": {
      "name": "Preparation.ipynb",
      "provenance": [],
      "mount_file_id": "18PFj9wVDmH6x8JJPWPy528slX_SKvBQR",
      "authorship_tag": "ABX9TyPc6xLTir694PYSpk4S7XZ5",
      "include_colab_link": true
    },
    "kernelspec": {
      "name": "python3",
      "display_name": "Python 3"
    }
  },
  "cells": [
    {
      "cell_type": "markdown",
      "metadata": {
        "id": "view-in-github",
        "colab_type": "text"
      },
      "source": [
        "<a href=\"https://colab.research.google.com/github/ciaoCiao100/esame_ia_febbraio/blob/main/Preparation.ipynb\" target=\"_parent\"><img src=\"https://colab.research.google.com/assets/colab-badge.svg\" alt=\"Open In Colab\"/></a>"
      ]
    },
    {
      "cell_type": "markdown",
      "metadata": {
        "id": "rr21vTBjg4n_"
      },
      "source": [
        ""
      ]
    },
    {
      "cell_type": "code",
      "metadata": {
        "id": "SF61qTFkg5gu"
      },
      "source": [
        "!pip install -r requirements.txt"
      ],
      "execution_count": null,
      "outputs": []
    },
    {
      "cell_type": "code",
      "metadata": {
        "colab": {
          "base_uri": "https://localhost:8080/",
          "height": 195
        },
        "id": "UwdqRnI8wmkI",
        "outputId": "a3392f49-bcee-470f-e37e-d0916f95166a"
      },
      "source": [
        "import pandas as pd\r\n",
        "import functools\r\n",
        "import numpy as np\r\n",
        "import tensorflow as tf\r\n",
        "from sklearn import tree\r\n",
        "import matplotlib as plt\r\n",
        "import nltk\r\n",
        "\r\n",
        "import sklearn.metrics as metrics\r\n",
        "import sklearn\r\n",
        "from sklearn.metrics import accuracy_score\r\n",
        "from sklearn.tree import DecisionTreeClassifier\r\n",
        "from tensorflow import feature_column\r\n",
        "from tensorflow.keras import layers\r\n",
        "from sklearn.model_selection import train_test_split\r\n",
        "from sklearn.model_selection import train_test_split\r\n",
        "from sklearn.ensemble import RandomForestClassifier\r\n",
        " \r\n",
        "\r\n",
        "# operazione che fa in modo che i numeri siano più leggibili\r\n",
        "np.set_printoptions(precision=3, suppress=True)\r\n",
        "\r\n",
        "Placement_data_file_path = \"./Placement_Data_Full_Class.train.csv\"\r\n",
        "df = pd.read_csv(Placement_data_file_path)\r\n",
        "df.head()"
      ],
      "execution_count": 14,
      "outputs": [
        {
          "output_type": "execute_result",
          "data": {
            "text/html": [
              "<div>\n",
              "<style scoped>\n",
              "    .dataframe tbody tr th:only-of-type {\n",
              "        vertical-align: middle;\n",
              "    }\n",
              "\n",
              "    .dataframe tbody tr th {\n",
              "        vertical-align: top;\n",
              "    }\n",
              "\n",
              "    .dataframe thead th {\n",
              "        text-align: right;\n",
              "    }\n",
              "</style>\n",
              "<table border=\"1\" class=\"dataframe\">\n",
              "  <thead>\n",
              "    <tr style=\"text-align: right;\">\n",
              "      <th></th>\n",
              "      <th>status</th>\n",
              "      <th>gender</th>\n",
              "      <th>ssc_p</th>\n",
              "      <th>ssc_b</th>\n",
              "      <th>hsc_p</th>\n",
              "      <th>hsc_b</th>\n",
              "      <th>hsc_s</th>\n",
              "      <th>degree_p</th>\n",
              "      <th>degree_t</th>\n",
              "      <th>workex</th>\n",
              "      <th>etest_p</th>\n",
              "      <th>specialisation</th>\n",
              "      <th>mba_p</th>\n",
              "      <th>salary</th>\n",
              "    </tr>\n",
              "  </thead>\n",
              "  <tbody>\n",
              "    <tr>\n",
              "      <th>0</th>\n",
              "      <td>Not Placed</td>\n",
              "      <td>M</td>\n",
              "      <td>52.0</td>\n",
              "      <td>Central</td>\n",
              "      <td>62.0</td>\n",
              "      <td>Central</td>\n",
              "      <td>Commerce</td>\n",
              "      <td>54.0</td>\n",
              "      <td>Comm&amp;Mgmt</td>\n",
              "      <td>No</td>\n",
              "      <td>72.00</td>\n",
              "      <td>Mkt&amp;HR</td>\n",
              "      <td>55.41</td>\n",
              "      <td>NaN</td>\n",
              "    </tr>\n",
              "    <tr>\n",
              "      <th>1</th>\n",
              "      <td>Placed</td>\n",
              "      <td>M</td>\n",
              "      <td>70.0</td>\n",
              "      <td>Central</td>\n",
              "      <td>63.0</td>\n",
              "      <td>Others</td>\n",
              "      <td>Science</td>\n",
              "      <td>70.0</td>\n",
              "      <td>Sci&amp;Tech</td>\n",
              "      <td>Yes</td>\n",
              "      <td>55.00</td>\n",
              "      <td>Mkt&amp;Fin</td>\n",
              "      <td>62.00</td>\n",
              "      <td>300000.0</td>\n",
              "    </tr>\n",
              "    <tr>\n",
              "      <th>2</th>\n",
              "      <td>Placed</td>\n",
              "      <td>M</td>\n",
              "      <td>73.0</td>\n",
              "      <td>Central</td>\n",
              "      <td>78.0</td>\n",
              "      <td>Others</td>\n",
              "      <td>Commerce</td>\n",
              "      <td>65.0</td>\n",
              "      <td>Comm&amp;Mgmt</td>\n",
              "      <td>Yes</td>\n",
              "      <td>95.46</td>\n",
              "      <td>Mkt&amp;Fin</td>\n",
              "      <td>62.16</td>\n",
              "      <td>420000.0</td>\n",
              "    </tr>\n",
              "    <tr>\n",
              "      <th>3</th>\n",
              "      <td>Placed</td>\n",
              "      <td>M</td>\n",
              "      <td>67.0</td>\n",
              "      <td>Others</td>\n",
              "      <td>63.0</td>\n",
              "      <td>Central</td>\n",
              "      <td>Commerce</td>\n",
              "      <td>72.0</td>\n",
              "      <td>Comm&amp;Mgmt</td>\n",
              "      <td>No</td>\n",
              "      <td>56.00</td>\n",
              "      <td>Mkt&amp;HR</td>\n",
              "      <td>60.41</td>\n",
              "      <td>225000.0</td>\n",
              "    </tr>\n",
              "    <tr>\n",
              "      <th>4</th>\n",
              "      <td>Placed</td>\n",
              "      <td>M</td>\n",
              "      <td>80.6</td>\n",
              "      <td>Others</td>\n",
              "      <td>82.0</td>\n",
              "      <td>Others</td>\n",
              "      <td>Commerce</td>\n",
              "      <td>77.6</td>\n",
              "      <td>Comm&amp;Mgmt</td>\n",
              "      <td>No</td>\n",
              "      <td>91.00</td>\n",
              "      <td>Mkt&amp;Fin</td>\n",
              "      <td>74.49</td>\n",
              "      <td>400000.0</td>\n",
              "    </tr>\n",
              "  </tbody>\n",
              "</table>\n",
              "</div>"
            ],
            "text/plain": [
              "       status gender  ssc_p    ssc_b  ...  etest_p specialisation  mba_p    salary\n",
              "0  Not Placed      M   52.0  Central  ...    72.00         Mkt&HR  55.41       NaN\n",
              "1      Placed      M   70.0  Central  ...    55.00        Mkt&Fin  62.00  300000.0\n",
              "2      Placed      M   73.0  Central  ...    95.46        Mkt&Fin  62.16  420000.0\n",
              "3      Placed      M   67.0   Others  ...    56.00         Mkt&HR  60.41  225000.0\n",
              "4      Placed      M   80.6   Others  ...    91.00        Mkt&Fin  74.49  400000.0\n",
              "\n",
              "[5 rows x 14 columns]"
            ]
          },
          "metadata": {
            "tags": []
          },
          "execution_count": 14
        }
      ]
    },
    {
      "cell_type": "markdown",
      "metadata": {
        "id": "Ek9rFDTgwrin"
      },
      "source": [
        "# Divisione dei dati in train e test"
      ]
    },
    {
      "cell_type": "code",
      "metadata": {
        "id": "LmimzVXRyBhL"
      },
      "source": [
        "train, test = train_test_split(df,test_size=0.2)\r\n",
        "train= train.to_csv('train.csv', index = False)\r\n",
        "test = test.to_csv('test.csv',index = False)"
      ],
      "execution_count": 15,
      "outputs": []
    }
  ]
}